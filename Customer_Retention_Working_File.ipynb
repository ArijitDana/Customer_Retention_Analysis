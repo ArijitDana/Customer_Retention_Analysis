{
 "cells": [
  {
   "cell_type": "markdown",
   "metadata": {},
   "source": [
    "# Import All Required Libraries"
   ]
  },
  {
   "cell_type": "code",
   "execution_count": 1,
   "metadata": {},
   "outputs": [],
   "source": [
    "import pandas as pd\n",
    "import numpy as np\n",
    "import seaborn as sns\n",
    "import matplotlib.pyplot as plt\n",
    "%matplotlib inline"
   ]
  },
  {
   "cell_type": "markdown",
   "metadata": {},
   "source": [
    "# Load Data"
   ]
  },
  {
   "cell_type": "code",
   "execution_count": 2,
   "metadata": {},
   "outputs": [],
   "source": [
    "Cust_df = pd.read_excel(\"Customer Retention Case Study Data.xlsx\",sheet_name='Data')"
   ]
  },
  {
   "cell_type": "markdown",
   "metadata": {},
   "source": [
    "# Review Data"
   ]
  },
  {
   "cell_type": "code",
   "execution_count": 3,
   "metadata": {},
   "outputs": [
    {
     "data": {
      "text/plain": [
       "(54030, 10)"
      ]
     },
     "execution_count": 3,
     "metadata": {},
     "output_type": "execute_result"
    }
   ],
   "source": [
    "Cust_df.shape"
   ]
  },
  {
   "cell_type": "code",
   "execution_count": 4,
   "metadata": {},
   "outputs": [
    {
     "data": {
      "text/html": [
       "<div>\n",
       "<style scoped>\n",
       "    .dataframe tbody tr th:only-of-type {\n",
       "        vertical-align: middle;\n",
       "    }\n",
       "\n",
       "    .dataframe tbody tr th {\n",
       "        vertical-align: top;\n",
       "    }\n",
       "\n",
       "    .dataframe thead th {\n",
       "        text-align: right;\n",
       "    }\n",
       "</style>\n",
       "<table border=\"1\" class=\"dataframe\">\n",
       "  <thead>\n",
       "    <tr style=\"text-align: right;\">\n",
       "      <th></th>\n",
       "      <th>gender</th>\n",
       "      <th>age</th>\n",
       "      <th>gross_income</th>\n",
       "      <th>segment</th>\n",
       "      <th>num_credit_cards</th>\n",
       "      <th>active_inactive_start</th>\n",
       "      <th>active_inactive_end</th>\n",
       "      <th>num_products</th>\n",
       "      <th>num_loans</th>\n",
       "      <th>duration</th>\n",
       "    </tr>\n",
       "  </thead>\n",
       "  <tbody>\n",
       "    <tr>\n",
       "      <th>0</th>\n",
       "      <td>M</td>\n",
       "      <td>21</td>\n",
       "      <td>79070.91</td>\n",
       "      <td>Individuals</td>\n",
       "      <td>0</td>\n",
       "      <td>I</td>\n",
       "      <td>0</td>\n",
       "      <td>1</td>\n",
       "      <td>0</td>\n",
       "      <td>1035</td>\n",
       "    </tr>\n",
       "    <tr>\n",
       "      <th>1</th>\n",
       "      <td>M</td>\n",
       "      <td>23</td>\n",
       "      <td>178270.68</td>\n",
       "      <td>College_Graduated</td>\n",
       "      <td>0</td>\n",
       "      <td>I</td>\n",
       "      <td>0</td>\n",
       "      <td>1</td>\n",
       "      <td>0</td>\n",
       "      <td>1097</td>\n",
       "    </tr>\n",
       "    <tr>\n",
       "      <th>2</th>\n",
       "      <td>M</td>\n",
       "      <td>24</td>\n",
       "      <td>31243.56</td>\n",
       "      <td>College_Graduated</td>\n",
       "      <td>0</td>\n",
       "      <td>I</td>\n",
       "      <td>1</td>\n",
       "      <td>1</td>\n",
       "      <td>0</td>\n",
       "      <td>1866</td>\n",
       "    </tr>\n",
       "    <tr>\n",
       "      <th>3</th>\n",
       "      <td>M</td>\n",
       "      <td>24</td>\n",
       "      <td>130740.54</td>\n",
       "      <td>College_Graduated</td>\n",
       "      <td>0</td>\n",
       "      <td>I</td>\n",
       "      <td>0</td>\n",
       "      <td>1</td>\n",
       "      <td>0</td>\n",
       "      <td>1440</td>\n",
       "    </tr>\n",
       "    <tr>\n",
       "      <th>4</th>\n",
       "      <td>M</td>\n",
       "      <td>31</td>\n",
       "      <td>112975.17</td>\n",
       "      <td>Individuals</td>\n",
       "      <td>0</td>\n",
       "      <td>I</td>\n",
       "      <td>0</td>\n",
       "      <td>0</td>\n",
       "      <td>0</td>\n",
       "      <td>376</td>\n",
       "    </tr>\n",
       "  </tbody>\n",
       "</table>\n",
       "</div>"
      ],
      "text/plain": [
       "  gender  age  gross_income            segment  num_credit_cards  \\\n",
       "0      M   21      79070.91        Individuals                 0   \n",
       "1      M   23     178270.68  College_Graduated                 0   \n",
       "2      M   24      31243.56  College_Graduated                 0   \n",
       "3      M   24     130740.54  College_Graduated                 0   \n",
       "4      M   31     112975.17        Individuals                 0   \n",
       "\n",
       "  active_inactive_start  active_inactive_end  num_products  num_loans  \\\n",
       "0                     I                    0             1          0   \n",
       "1                     I                    0             1          0   \n",
       "2                     I                    1             1          0   \n",
       "3                     I                    0             1          0   \n",
       "4                     I                    0             0          0   \n",
       "\n",
       "   duration  \n",
       "0      1035  \n",
       "1      1097  \n",
       "2      1866  \n",
       "3      1440  \n",
       "4       376  "
      ]
     },
     "execution_count": 4,
     "metadata": {},
     "output_type": "execute_result"
    }
   ],
   "source": [
    "Cust_df.head()"
   ]
  },
  {
   "cell_type": "code",
   "execution_count": 5,
   "metadata": {},
   "outputs": [
    {
     "data": {
      "text/plain": [
       "gender                   0\n",
       "age                      0\n",
       "gross_income             0\n",
       "segment                  0\n",
       "num_credit_cards         0\n",
       "active_inactive_start    0\n",
       "active_inactive_end      0\n",
       "num_products             0\n",
       "num_loans                0\n",
       "duration                 0\n",
       "dtype: int64"
      ]
     },
     "execution_count": 5,
     "metadata": {},
     "output_type": "execute_result"
    }
   ],
   "source": [
    "Cust_df.isnull().sum()"
   ]
  },
  {
   "cell_type": "code",
   "execution_count": 6,
   "metadata": {},
   "outputs": [
    {
     "name": "stdout",
     "output_type": "stream",
     "text": [
      "<class 'pandas.core.frame.DataFrame'>\n",
      "RangeIndex: 54030 entries, 0 to 54029\n",
      "Data columns (total 10 columns):\n",
      " #   Column                 Non-Null Count  Dtype  \n",
      "---  ------                 --------------  -----  \n",
      " 0   gender                 54030 non-null  object \n",
      " 1   age                    54030 non-null  int64  \n",
      " 2   gross_income           54030 non-null  float64\n",
      " 3   segment                54030 non-null  object \n",
      " 4   num_credit_cards       54030 non-null  int64  \n",
      " 5   active_inactive_start  54030 non-null  object \n",
      " 6   active_inactive_end    54030 non-null  int64  \n",
      " 7   num_products           54030 non-null  int64  \n",
      " 8   num_loans              54030 non-null  int64  \n",
      " 9   duration               54030 non-null  int64  \n",
      "dtypes: float64(1), int64(6), object(3)\n",
      "memory usage: 4.1+ MB\n"
     ]
    }
   ],
   "source": [
    "Cust_df.info()"
   ]
  },
  {
   "cell_type": "code",
   "execution_count": 7,
   "metadata": {},
   "outputs": [
    {
     "data": {
      "text/plain": [
       "gender                    object\n",
       "age                        int64\n",
       "gross_income             float64\n",
       "segment                   object\n",
       "num_credit_cards           int64\n",
       "active_inactive_start     object\n",
       "active_inactive_end        int64\n",
       "num_products               int64\n",
       "num_loans                  int64\n",
       "duration                   int64\n",
       "dtype: object"
      ]
     },
     "execution_count": 7,
     "metadata": {},
     "output_type": "execute_result"
    }
   ],
   "source": [
    "Cust_df.dtypes"
   ]
  },
  {
   "cell_type": "code",
   "execution_count": 8,
   "metadata": {},
   "outputs": [
    {
     "data": {
      "text/html": [
       "<div>\n",
       "<style scoped>\n",
       "    .dataframe tbody tr th:only-of-type {\n",
       "        vertical-align: middle;\n",
       "    }\n",
       "\n",
       "    .dataframe tbody tr th {\n",
       "        vertical-align: top;\n",
       "    }\n",
       "\n",
       "    .dataframe thead th {\n",
       "        text-align: right;\n",
       "    }\n",
       "</style>\n",
       "<table border=\"1\" class=\"dataframe\">\n",
       "  <thead>\n",
       "    <tr style=\"text-align: right;\">\n",
       "      <th></th>\n",
       "      <th>count</th>\n",
       "      <th>mean</th>\n",
       "      <th>std</th>\n",
       "      <th>min</th>\n",
       "      <th>25%</th>\n",
       "      <th>50%</th>\n",
       "      <th>75%</th>\n",
       "      <th>max</th>\n",
       "    </tr>\n",
       "  </thead>\n",
       "  <tbody>\n",
       "    <tr>\n",
       "      <th>age</th>\n",
       "      <td>54030.0</td>\n",
       "      <td>40.772534</td>\n",
       "      <td>17.210781</td>\n",
       "      <td>2.00</td>\n",
       "      <td>25.0000</td>\n",
       "      <td>40.00</td>\n",
       "      <td>51.000</td>\n",
       "      <td>112.00</td>\n",
       "    </tr>\n",
       "    <tr>\n",
       "      <th>gross_income</th>\n",
       "      <td>54030.0</td>\n",
       "      <td>134196.672404</td>\n",
       "      <td>239721.455090</td>\n",
       "      <td>2336.01</td>\n",
       "      <td>68581.0725</td>\n",
       "      <td>101566.32</td>\n",
       "      <td>156253.755</td>\n",
       "      <td>28894395.51</td>\n",
       "    </tr>\n",
       "    <tr>\n",
       "      <th>num_credit_cards</th>\n",
       "      <td>54030.0</td>\n",
       "      <td>0.049880</td>\n",
       "      <td>0.217698</td>\n",
       "      <td>0.00</td>\n",
       "      <td>0.0000</td>\n",
       "      <td>0.00</td>\n",
       "      <td>0.000</td>\n",
       "      <td>1.00</td>\n",
       "    </tr>\n",
       "    <tr>\n",
       "      <th>active_inactive_end</th>\n",
       "      <td>54030.0</td>\n",
       "      <td>0.469073</td>\n",
       "      <td>0.499047</td>\n",
       "      <td>0.00</td>\n",
       "      <td>0.0000</td>\n",
       "      <td>0.00</td>\n",
       "      <td>1.000</td>\n",
       "      <td>1.00</td>\n",
       "    </tr>\n",
       "    <tr>\n",
       "      <th>num_products</th>\n",
       "      <td>54030.0</td>\n",
       "      <td>1.536017</td>\n",
       "      <td>1.578848</td>\n",
       "      <td>0.00</td>\n",
       "      <td>1.0000</td>\n",
       "      <td>1.00</td>\n",
       "      <td>2.000</td>\n",
       "      <td>13.00</td>\n",
       "    </tr>\n",
       "    <tr>\n",
       "      <th>num_loans</th>\n",
       "      <td>54030.0</td>\n",
       "      <td>0.009365</td>\n",
       "      <td>0.096320</td>\n",
       "      <td>0.00</td>\n",
       "      <td>0.0000</td>\n",
       "      <td>0.00</td>\n",
       "      <td>0.000</td>\n",
       "      <td>1.00</td>\n",
       "    </tr>\n",
       "    <tr>\n",
       "      <th>duration</th>\n",
       "      <td>54030.0</td>\n",
       "      <td>2913.936665</td>\n",
       "      <td>2027.956268</td>\n",
       "      <td>366.00</td>\n",
       "      <td>1118.0000</td>\n",
       "      <td>2039.50</td>\n",
       "      <td>4693.000</td>\n",
       "      <td>7909.00</td>\n",
       "    </tr>\n",
       "  </tbody>\n",
       "</table>\n",
       "</div>"
      ],
      "text/plain": [
       "                       count           mean            std      min  \\\n",
       "age                  54030.0      40.772534      17.210781     2.00   \n",
       "gross_income         54030.0  134196.672404  239721.455090  2336.01   \n",
       "num_credit_cards     54030.0       0.049880       0.217698     0.00   \n",
       "active_inactive_end  54030.0       0.469073       0.499047     0.00   \n",
       "num_products         54030.0       1.536017       1.578848     0.00   \n",
       "num_loans            54030.0       0.009365       0.096320     0.00   \n",
       "duration             54030.0    2913.936665    2027.956268   366.00   \n",
       "\n",
       "                            25%        50%         75%          max  \n",
       "age                     25.0000      40.00      51.000       112.00  \n",
       "gross_income         68581.0725  101566.32  156253.755  28894395.51  \n",
       "num_credit_cards         0.0000       0.00       0.000         1.00  \n",
       "active_inactive_end      0.0000       0.00       1.000         1.00  \n",
       "num_products             1.0000       1.00       2.000        13.00  \n",
       "num_loans                0.0000       0.00       0.000         1.00  \n",
       "duration              1118.0000    2039.50    4693.000      7909.00  "
      ]
     },
     "execution_count": 8,
     "metadata": {},
     "output_type": "execute_result"
    }
   ],
   "source": [
    "Cust_df.describe().transpose()"
   ]
  },
  {
   "cell_type": "code",
   "execution_count": 9,
   "metadata": {},
   "outputs": [
    {
     "data": {
      "text/plain": [
       "<AxesSubplot:>"
      ]
     },
     "execution_count": 9,
     "metadata": {},
     "output_type": "execute_result"
    },
    {
     "data": {
      "image/png": "[encoded data removed]",
      "text/plain": [
       "<Figure size 432x288 with 2 Axes>"
      ]
     },
     "metadata": {
      "needs_background": "light"
     },
     "output_type": "display_data"
    }
   ],
   "source": [
    "sns.heatmap(Cust_df.corr(),annot = True)"
   ]
  },
  {
   "cell_type": "code",
   "execution_count": 10,
   "metadata": {},
   "outputs": [
    {
     "data": {
      "text/plain": [
       "F    29681\n",
       "M    24349\n",
       "Name: gender, dtype: int64"
      ]
     },
     "execution_count": 10,
     "metadata": {},
     "output_type": "execute_result"
    }
   ],
   "source": [
    "Cust_df['gender'].value_counts()"
   ]
  },
  {
   "cell_type": "code",
   "execution_count": 11,
   "metadata": {},
   "outputs": [
    {
     "data": {
      "text/plain": [
       "3"
      ]
     },
     "execution_count": 11,
     "metadata": {},
     "output_type": "execute_result"
    }
   ],
   "source": [
    "Cust_df['segment'].nunique()"
   ]
  },
  {
   "cell_type": "code",
   "execution_count": 12,
   "metadata": {},
   "outputs": [
    {
     "data": {
      "text/plain": [
       "Individuals          32607\n",
       "College_Graduated    18963\n",
       "VIP                   2460\n",
       "Name: segment, dtype: int64"
      ]
     },
     "execution_count": 12,
     "metadata": {},
     "output_type": "execute_result"
    }
   ],
   "source": [
    "Cust_df['segment'].value_counts()"
   ]
  },
  {
   "cell_type": "markdown",
   "metadata": {},
   "source": [
    "Convert Data field 'active_inactive_start' to integer to enable analysis along with active_inactive_end. This data field was in string format in original source file and had to be converted to integer format using below code"
   ]
  },
  {
   "cell_type": "code",
   "execution_count": 13,
   "metadata": {},
   "outputs": [],
   "source": [
    "Cust_df['active_inactive_start'] = Cust_df['active_inactive_start'].map({'I':0,'A':1})"
   ]
  },
  {
   "cell_type": "code",
   "execution_count": 14,
   "metadata": {},
   "outputs": [
    {
     "data": {
      "text/html": [
       "<div>\n",
       "<style scoped>\n",
       "    .dataframe tbody tr th:only-of-type {\n",
       "        vertical-align: middle;\n",
       "    }\n",
       "\n",
       "    .dataframe tbody tr th {\n",
       "        vertical-align: top;\n",
       "    }\n",
       "\n",
       "    .dataframe thead th {\n",
       "        text-align: right;\n",
       "    }\n",
       "</style>\n",
       "<table border=\"1\" class=\"dataframe\">\n",
       "  <thead>\n",
       "    <tr style=\"text-align: right;\">\n",
       "      <th></th>\n",
       "      <th>gender</th>\n",
       "      <th>age</th>\n",
       "      <th>gross_income</th>\n",
       "      <th>segment</th>\n",
       "      <th>num_credit_cards</th>\n",
       "      <th>active_inactive_start</th>\n",
       "      <th>active_inactive_end</th>\n",
       "      <th>num_products</th>\n",
       "      <th>num_loans</th>\n",
       "      <th>duration</th>\n",
       "    </tr>\n",
       "  </thead>\n",
       "  <tbody>\n",
       "    <tr>\n",
       "      <th>0</th>\n",
       "      <td>M</td>\n",
       "      <td>21</td>\n",
       "      <td>79070.91</td>\n",
       "      <td>Individuals</td>\n",
       "      <td>0</td>\n",
       "      <td>0</td>\n",
       "      <td>0</td>\n",
       "      <td>1</td>\n",
       "      <td>0</td>\n",
       "      <td>1035</td>\n",
       "    </tr>\n",
       "    <tr>\n",
       "      <th>1</th>\n",
       "      <td>M</td>\n",
       "      <td>23</td>\n",
       "      <td>178270.68</td>\n",
       "      <td>College_Graduated</td>\n",
       "      <td>0</td>\n",
       "      <td>0</td>\n",
       "      <td>0</td>\n",
       "      <td>1</td>\n",
       "      <td>0</td>\n",
       "      <td>1097</td>\n",
       "    </tr>\n",
       "    <tr>\n",
       "      <th>2</th>\n",
       "      <td>M</td>\n",
       "      <td>24</td>\n",
       "      <td>31243.56</td>\n",
       "      <td>College_Graduated</td>\n",
       "      <td>0</td>\n",
       "      <td>0</td>\n",
       "      <td>1</td>\n",
       "      <td>1</td>\n",
       "      <td>0</td>\n",
       "      <td>1866</td>\n",
       "    </tr>\n",
       "    <tr>\n",
       "      <th>3</th>\n",
       "      <td>M</td>\n",
       "      <td>24</td>\n",
       "      <td>130740.54</td>\n",
       "      <td>College_Graduated</td>\n",
       "      <td>0</td>\n",
       "      <td>0</td>\n",
       "      <td>0</td>\n",
       "      <td>1</td>\n",
       "      <td>0</td>\n",
       "      <td>1440</td>\n",
       "    </tr>\n",
       "    <tr>\n",
       "      <th>4</th>\n",
       "      <td>M</td>\n",
       "      <td>31</td>\n",
       "      <td>112975.17</td>\n",
       "      <td>Individuals</td>\n",
       "      <td>0</td>\n",
       "      <td>0</td>\n",
       "      <td>0</td>\n",
       "      <td>0</td>\n",
       "      <td>0</td>\n",
       "      <td>376</td>\n",
       "    </tr>\n",
       "    <tr>\n",
       "      <th>5</th>\n",
       "      <td>F</td>\n",
       "      <td>32</td>\n",
       "      <td>37318.56</td>\n",
       "      <td>Individuals</td>\n",
       "      <td>0</td>\n",
       "      <td>1</td>\n",
       "      <td>1</td>\n",
       "      <td>4</td>\n",
       "      <td>0</td>\n",
       "      <td>699</td>\n",
       "    </tr>\n",
       "    <tr>\n",
       "      <th>6</th>\n",
       "      <td>F</td>\n",
       "      <td>43</td>\n",
       "      <td>131281.50</td>\n",
       "      <td>Individuals</td>\n",
       "      <td>0</td>\n",
       "      <td>1</td>\n",
       "      <td>0</td>\n",
       "      <td>1</td>\n",
       "      <td>0</td>\n",
       "      <td>5022</td>\n",
       "    </tr>\n",
       "    <tr>\n",
       "      <th>7</th>\n",
       "      <td>M</td>\n",
       "      <td>48</td>\n",
       "      <td>184641.60</td>\n",
       "      <td>Individuals</td>\n",
       "      <td>0</td>\n",
       "      <td>1</td>\n",
       "      <td>1</td>\n",
       "      <td>1</td>\n",
       "      <td>0</td>\n",
       "      <td>4066</td>\n",
       "    </tr>\n",
       "    <tr>\n",
       "      <th>8</th>\n",
       "      <td>F</td>\n",
       "      <td>36</td>\n",
       "      <td>164347.86</td>\n",
       "      <td>VIP</td>\n",
       "      <td>0</td>\n",
       "      <td>1</td>\n",
       "      <td>1</td>\n",
       "      <td>1</td>\n",
       "      <td>0</td>\n",
       "      <td>1427</td>\n",
       "    </tr>\n",
       "    <tr>\n",
       "      <th>9</th>\n",
       "      <td>M</td>\n",
       "      <td>26</td>\n",
       "      <td>27311.31</td>\n",
       "      <td>College_Graduated</td>\n",
       "      <td>0</td>\n",
       "      <td>0</td>\n",
       "      <td>1</td>\n",
       "      <td>1</td>\n",
       "      <td>0</td>\n",
       "      <td>1458</td>\n",
       "    </tr>\n",
       "  </tbody>\n",
       "</table>\n",
       "</div>"
      ],
      "text/plain": [
       "  gender  age  gross_income            segment  num_credit_cards  \\\n",
       "0      M   21      79070.91        Individuals                 0   \n",
       "1      M   23     178270.68  College_Graduated                 0   \n",
       "2      M   24      31243.56  College_Graduated                 0   \n",
       "3      M   24     130740.54  College_Graduated                 0   \n",
       "4      M   31     112975.17        Individuals                 0   \n",
       "5      F   32      37318.56        Individuals                 0   \n",
       "6      F   43     131281.50        Individuals                 0   \n",
       "7      M   48     184641.60        Individuals                 0   \n",
       "8      F   36     164347.86                VIP                 0   \n",
       "9      M   26      27311.31  College_Graduated                 0   \n",
       "\n",
       "   active_inactive_start  active_inactive_end  num_products  num_loans  \\\n",
       "0                      0                    0             1          0   \n",
       "1                      0                    0             1          0   \n",
       "2                      0                    1             1          0   \n",
       "3                      0                    0             1          0   \n",
       "4                      0                    0             0          0   \n",
       "5                      1                    1             4          0   \n",
       "6                      1                    0             1          0   \n",
       "7                      1                    1             1          0   \n",
       "8                      1                    1             1          0   \n",
       "9                      0                    1             1          0   \n",
       "\n",
       "   duration  \n",
       "0      1035  \n",
       "1      1097  \n",
       "2      1866  \n",
       "3      1440  \n",
       "4       376  \n",
       "5       699  \n",
       "6      5022  \n",
       "7      4066  \n",
       "8      1427  \n",
       "9      1458  "
      ]
     },
     "execution_count": 14,
     "metadata": {},
     "output_type": "execute_result"
    }
   ],
   "source": [
    "Cust_df.head(10)"
   ]
  },
  {
   "cell_type": "markdown",
   "metadata": {},
   "source": [
    "Final check on data if the active_inactive_start dtype changed to int64 and no null values existing "
   ]
  },
  {
   "cell_type": "code",
   "execution_count": 15,
   "metadata": {},
   "outputs": [
    {
     "data": {
      "text/plain": [
       "gender                    object\n",
       "age                        int64\n",
       "gross_income             float64\n",
       "segment                   object\n",
       "num_credit_cards           int64\n",
       "active_inactive_start      int64\n",
       "active_inactive_end        int64\n",
       "num_products               int64\n",
       "num_loans                  int64\n",
       "duration                   int64\n",
       "dtype: object"
      ]
     },
     "execution_count": 15,
     "metadata": {},
     "output_type": "execute_result"
    }
   ],
   "source": [
    "Cust_df.dtypes"
   ]
  },
  {
   "cell_type": "markdown",
   "metadata": {},
   "source": [
    "Calculate unique values of string variables"
   ]
  },
  {
   "cell_type": "code",
   "execution_count": 16,
   "metadata": {},
   "outputs": [
    {
     "data": {
      "text/plain": [
       "gender                   0\n",
       "age                      0\n",
       "gross_income             0\n",
       "segment                  0\n",
       "num_credit_cards         0\n",
       "active_inactive_start    0\n",
       "active_inactive_end      0\n",
       "num_products             0\n",
       "num_loans                0\n",
       "duration                 0\n",
       "dtype: int64"
      ]
     },
     "execution_count": 16,
     "metadata": {},
     "output_type": "execute_result"
    }
   ],
   "source": [
    "Cust_df.isnull().sum()"
   ]
  },
  {
   "cell_type": "code",
   "execution_count": 17,
   "metadata": {},
   "outputs": [
    {
     "data": {
      "text/plain": [
       "<AxesSubplot:xlabel='gender', ylabel='age'>"
      ]
     },
     "execution_count": 17,
     "metadata": {},
     "output_type": "execute_result"
    },
    {
     "data": {
      "image/png": "[encoded data removed]",
      "text/plain": [
       "<Figure size 792x504 with 1 Axes>"
      ]
     },
     "metadata": {
      "needs_background": "light"
     },
     "output_type": "display_data"
    }
   ],
   "source": [
    "plt.figure(figsize=(11,7))\n",
    "sns.boxplot(data = Cust_df, x='gender',y= 'age', palette='Set1')"
   ]
  },
  {
   "cell_type": "markdown",
   "metadata": {},
   "source": [
    "# Data Exploration"
   ]
  },
  {
   "cell_type": "markdown",
   "metadata": {},
   "source": [
    "Created new data field called 'New_Activations' to identify and separate clients basis their active in active status and start and end."
   ]
  },
  {
   "cell_type": "markdown",
   "metadata": {},
   "source": [
    "•\tNew Active: Customers who were inactive at start of period but turned active at end of 6 months of analysis period\n",
    "\n",
    "•\tExisting_Active: Customers who continued to remain active throughout 6 months of the analysis period\n",
    "\n",
    "•\tNew_Inactive: Customers who were active at start of period but turned inactive at end of analysis period\n",
    "\n",
    "•\tExisting_Inactive: Customers who continued to remain inactive throughout the analysis period"
   ]
  },
  {
   "cell_type": "code",
   "execution_count": 18,
   "metadata": {},
   "outputs": [],
   "source": [
    "Cust_df.loc[(Cust_df.active_inactive_start == 0) & (Cust_df.active_inactive_end == 1), 'New_Activations'] = 'New_Active'\n",
    "Cust_df.loc[(Cust_df.active_inactive_start == 1) & (Cust_df.active_inactive_end == 1), 'New_Activations'] = 'Existing_Active'\n",
    "Cust_df.loc[(Cust_df.active_inactive_start == 1) & (Cust_df.active_inactive_end == 0), 'New_Activations'] = 'New_Inactive'\n",
    "Cust_df.loc[(Cust_df.active_inactive_start == 0) & (Cust_df.active_inactive_end == 0), 'New_Activations'] = 'Existing_Inactive'"
   ]
  },
  {
   "cell_type": "code",
   "execution_count": 19,
   "metadata": {},
   "outputs": [
    {
     "data": {
      "text/html": [
       "<div>\n",
       "<style scoped>\n",
       "    .dataframe tbody tr th:only-of-type {\n",
       "        vertical-align: middle;\n",
       "    }\n",
       "\n",
       "    .dataframe tbody tr th {\n",
       "        vertical-align: top;\n",
       "    }\n",
       "\n",
       "    .dataframe thead th {\n",
       "        text-align: right;\n",
       "    }\n",
       "</style>\n",
       "<table border=\"1\" class=\"dataframe\">\n",
       "  <thead>\n",
       "    <tr style=\"text-align: right;\">\n",
       "      <th></th>\n",
       "      <th>gender</th>\n",
       "      <th>age</th>\n",
       "      <th>gross_income</th>\n",
       "      <th>segment</th>\n",
       "      <th>num_credit_cards</th>\n",
       "      <th>active_inactive_start</th>\n",
       "      <th>active_inactive_end</th>\n",
       "      <th>num_products</th>\n",
       "      <th>num_loans</th>\n",
       "      <th>duration</th>\n",
       "      <th>New_Activations</th>\n",
       "    </tr>\n",
       "  </thead>\n",
       "  <tbody>\n",
       "    <tr>\n",
       "      <th>0</th>\n",
       "      <td>M</td>\n",
       "      <td>21</td>\n",
       "      <td>79070.91</td>\n",
       "      <td>Individuals</td>\n",
       "      <td>0</td>\n",
       "      <td>0</td>\n",
       "      <td>0</td>\n",
       "      <td>1</td>\n",
       "      <td>0</td>\n",
       "      <td>1035</td>\n",
       "      <td>Existing_Inactive</td>\n",
       "    </tr>\n",
       "    <tr>\n",
       "      <th>1</th>\n",
       "      <td>M</td>\n",
       "      <td>23</td>\n",
       "      <td>178270.68</td>\n",
       "      <td>College_Graduated</td>\n",
       "      <td>0</td>\n",
       "      <td>0</td>\n",
       "      <td>0</td>\n",
       "      <td>1</td>\n",
       "      <td>0</td>\n",
       "      <td>1097</td>\n",
       "      <td>Existing_Inactive</td>\n",
       "    </tr>\n",
       "    <tr>\n",
       "      <th>2</th>\n",
       "      <td>M</td>\n",
       "      <td>24</td>\n",
       "      <td>31243.56</td>\n",
       "      <td>College_Graduated</td>\n",
       "      <td>0</td>\n",
       "      <td>0</td>\n",
       "      <td>1</td>\n",
       "      <td>1</td>\n",
       "      <td>0</td>\n",
       "      <td>1866</td>\n",
       "      <td>New_Active</td>\n",
       "    </tr>\n",
       "    <tr>\n",
       "      <th>3</th>\n",
       "      <td>M</td>\n",
       "      <td>24</td>\n",
       "      <td>130740.54</td>\n",
       "      <td>College_Graduated</td>\n",
       "      <td>0</td>\n",
       "      <td>0</td>\n",
       "      <td>0</td>\n",
       "      <td>1</td>\n",
       "      <td>0</td>\n",
       "      <td>1440</td>\n",
       "      <td>Existing_Inactive</td>\n",
       "    </tr>\n",
       "    <tr>\n",
       "      <th>4</th>\n",
       "      <td>M</td>\n",
       "      <td>31</td>\n",
       "      <td>112975.17</td>\n",
       "      <td>Individuals</td>\n",
       "      <td>0</td>\n",
       "      <td>0</td>\n",
       "      <td>0</td>\n",
       "      <td>0</td>\n",
       "      <td>0</td>\n",
       "      <td>376</td>\n",
       "      <td>Existing_Inactive</td>\n",
       "    </tr>\n",
       "  </tbody>\n",
       "</table>\n",
       "</div>"
      ],
      "text/plain": [
       "  gender  age  gross_income            segment  num_credit_cards  \\\n",
       "0      M   21      79070.91        Individuals                 0   \n",
       "1      M   23     178270.68  College_Graduated                 0   \n",
       "2      M   24      31243.56  College_Graduated                 0   \n",
       "3      M   24     130740.54  College_Graduated                 0   \n",
       "4      M   31     112975.17        Individuals                 0   \n",
       "\n",
       "   active_inactive_start  active_inactive_end  num_products  num_loans  \\\n",
       "0                      0                    0             1          0   \n",
       "1                      0                    0             1          0   \n",
       "2                      0                    1             1          0   \n",
       "3                      0                    0             1          0   \n",
       "4                      0                    0             0          0   \n",
       "\n",
       "   duration    New_Activations  \n",
       "0      1035  Existing_Inactive  \n",
       "1      1097  Existing_Inactive  \n",
       "2      1866         New_Active  \n",
       "3      1440  Existing_Inactive  \n",
       "4       376  Existing_Inactive  "
      ]
     },
     "execution_count": 19,
     "metadata": {},
     "output_type": "execute_result"
    }
   ],
   "source": [
    "Cust_df.head()"
   ]
  },
  {
   "cell_type": "markdown",
   "metadata": {},
   "source": [
    "Detailed Profile for New_Active Customers"
   ]
  },
  {
   "cell_type": "code",
   "execution_count": 20,
   "metadata": {},
   "outputs": [
    {
     "data": {
      "text/html": [
       "<div>\n",
       "<style scoped>\n",
       "    .dataframe tbody tr th:only-of-type {\n",
       "        vertical-align: middle;\n",
       "    }\n",
       "\n",
       "    .dataframe tbody tr th {\n",
       "        vertical-align: top;\n",
       "    }\n",
       "\n",
       "    .dataframe thead th {\n",
       "        text-align: right;\n",
       "    }\n",
       "</style>\n",
       "<table border=\"1\" class=\"dataframe\">\n",
       "  <thead>\n",
       "    <tr style=\"text-align: right;\">\n",
       "      <th></th>\n",
       "      <th>count</th>\n",
       "      <th>mean</th>\n",
       "      <th>std</th>\n",
       "      <th>min</th>\n",
       "      <th>25%</th>\n",
       "      <th>50%</th>\n",
       "      <th>75%</th>\n",
       "      <th>max</th>\n",
       "    </tr>\n",
       "  </thead>\n",
       "  <tbody>\n",
       "    <tr>\n",
       "      <th>age</th>\n",
       "      <td>2438.0</td>\n",
       "      <td>39.749385</td>\n",
       "      <td>17.645088</td>\n",
       "      <td>2.00</td>\n",
       "      <td>24.0000</td>\n",
       "      <td>37.0</td>\n",
       "      <td>50.000</td>\n",
       "      <td>105.00</td>\n",
       "    </tr>\n",
       "    <tr>\n",
       "      <th>gross_income</th>\n",
       "      <td>2438.0</td>\n",
       "      <td>123093.656862</td>\n",
       "      <td>93297.293190</td>\n",
       "      <td>9049.62</td>\n",
       "      <td>67119.6975</td>\n",
       "      <td>97501.5</td>\n",
       "      <td>148200.855</td>\n",
       "      <td>1174394.49</td>\n",
       "    </tr>\n",
       "    <tr>\n",
       "      <th>num_credit_cards</th>\n",
       "      <td>2438.0</td>\n",
       "      <td>0.001641</td>\n",
       "      <td>0.040480</td>\n",
       "      <td>0.00</td>\n",
       "      <td>0.0000</td>\n",
       "      <td>0.0</td>\n",
       "      <td>0.000</td>\n",
       "      <td>1.00</td>\n",
       "    </tr>\n",
       "    <tr>\n",
       "      <th>active_inactive_start</th>\n",
       "      <td>2438.0</td>\n",
       "      <td>0.000000</td>\n",
       "      <td>0.000000</td>\n",
       "      <td>0.00</td>\n",
       "      <td>0.0000</td>\n",
       "      <td>0.0</td>\n",
       "      <td>0.000</td>\n",
       "      <td>0.00</td>\n",
       "    </tr>\n",
       "    <tr>\n",
       "      <th>active_inactive_end</th>\n",
       "      <td>2438.0</td>\n",
       "      <td>1.000000</td>\n",
       "      <td>0.000000</td>\n",
       "      <td>1.00</td>\n",
       "      <td>1.0000</td>\n",
       "      <td>1.0</td>\n",
       "      <td>1.000</td>\n",
       "      <td>1.00</td>\n",
       "    </tr>\n",
       "    <tr>\n",
       "      <th>num_products</th>\n",
       "      <td>2438.0</td>\n",
       "      <td>1.277276</td>\n",
       "      <td>0.530003</td>\n",
       "      <td>0.00</td>\n",
       "      <td>1.0000</td>\n",
       "      <td>1.0</td>\n",
       "      <td>2.000</td>\n",
       "      <td>4.00</td>\n",
       "    </tr>\n",
       "    <tr>\n",
       "      <th>num_loans</th>\n",
       "      <td>2438.0</td>\n",
       "      <td>0.000000</td>\n",
       "      <td>0.000000</td>\n",
       "      <td>0.00</td>\n",
       "      <td>0.0000</td>\n",
       "      <td>0.0</td>\n",
       "      <td>0.000</td>\n",
       "      <td>0.00</td>\n",
       "    </tr>\n",
       "    <tr>\n",
       "      <th>duration</th>\n",
       "      <td>2438.0</td>\n",
       "      <td>2648.244053</td>\n",
       "      <td>1874.054211</td>\n",
       "      <td>366.00</td>\n",
       "      <td>1091.0000</td>\n",
       "      <td>1824.5</td>\n",
       "      <td>4283.000</td>\n",
       "      <td>7879.00</td>\n",
       "    </tr>\n",
       "  </tbody>\n",
       "</table>\n",
       "</div>"
      ],
      "text/plain": [
       "                        count           mean           std      min  \\\n",
       "age                    2438.0      39.749385     17.645088     2.00   \n",
       "gross_income           2438.0  123093.656862  93297.293190  9049.62   \n",
       "num_credit_cards       2438.0       0.001641      0.040480     0.00   \n",
       "active_inactive_start  2438.0       0.000000      0.000000     0.00   \n",
       "active_inactive_end    2438.0       1.000000      0.000000     1.00   \n",
       "num_products           2438.0       1.277276      0.530003     0.00   \n",
       "num_loans              2438.0       0.000000      0.000000     0.00   \n",
       "duration               2438.0    2648.244053   1874.054211   366.00   \n",
       "\n",
       "                              25%      50%         75%         max  \n",
       "age                       24.0000     37.0      50.000      105.00  \n",
       "gross_income           67119.6975  97501.5  148200.855  1174394.49  \n",
       "num_credit_cards           0.0000      0.0       0.000        1.00  \n",
       "active_inactive_start      0.0000      0.0       0.000        0.00  \n",
       "active_inactive_end        1.0000      1.0       1.000        1.00  \n",
       "num_products               1.0000      1.0       2.000        4.00  \n",
       "num_loans                  0.0000      0.0       0.000        0.00  \n",
       "duration                1091.0000   1824.5    4283.000     7879.00  "
      ]
     },
     "execution_count": 20,
     "metadata": {},
     "output_type": "execute_result"
    }
   ],
   "source": [
    "Cust_df[Cust_df.New_Activations == 'New_Active'].describe().transpose()"
   ]
  },
  {
   "cell_type": "markdown",
   "metadata": {},
   "source": [
    "Detailed Profile for Existing Active Customers"
   ]
  },
  {
   "cell_type": "code",
   "execution_count": 21,
   "metadata": {},
   "outputs": [
    {
     "data": {
      "text/html": [
       "<div>\n",
       "<style scoped>\n",
       "    .dataframe tbody tr th:only-of-type {\n",
       "        vertical-align: middle;\n",
       "    }\n",
       "\n",
       "    .dataframe tbody tr th {\n",
       "        vertical-align: top;\n",
       "    }\n",
       "\n",
       "    .dataframe thead th {\n",
       "        text-align: right;\n",
       "    }\n",
       "</style>\n",
       "<table border=\"1\" class=\"dataframe\">\n",
       "  <thead>\n",
       "    <tr style=\"text-align: right;\">\n",
       "      <th></th>\n",
       "      <th>count</th>\n",
       "      <th>mean</th>\n",
       "      <th>std</th>\n",
       "      <th>min</th>\n",
       "      <th>25%</th>\n",
       "      <th>50%</th>\n",
       "      <th>75%</th>\n",
       "      <th>max</th>\n",
       "    </tr>\n",
       "  </thead>\n",
       "  <tbody>\n",
       "    <tr>\n",
       "      <th>age</th>\n",
       "      <td>22906.0</td>\n",
       "      <td>43.677115</td>\n",
       "      <td>16.065042</td>\n",
       "      <td>2.00</td>\n",
       "      <td>32.0000</td>\n",
       "      <td>43.000</td>\n",
       "      <td>52.000</td>\n",
       "      <td>112.00</td>\n",
       "    </tr>\n",
       "    <tr>\n",
       "      <th>gross_income</th>\n",
       "      <td>22906.0</td>\n",
       "      <td>142333.733732</td>\n",
       "      <td>222933.483479</td>\n",
       "      <td>5340.93</td>\n",
       "      <td>74152.5075</td>\n",
       "      <td>110413.965</td>\n",
       "      <td>167160.345</td>\n",
       "      <td>13268621.28</td>\n",
       "    </tr>\n",
       "    <tr>\n",
       "      <th>num_credit_cards</th>\n",
       "      <td>22906.0</td>\n",
       "      <td>0.116782</td>\n",
       "      <td>0.321167</td>\n",
       "      <td>0.00</td>\n",
       "      <td>0.0000</td>\n",
       "      <td>0.000</td>\n",
       "      <td>0.000</td>\n",
       "      <td>1.00</td>\n",
       "    </tr>\n",
       "    <tr>\n",
       "      <th>active_inactive_start</th>\n",
       "      <td>22906.0</td>\n",
       "      <td>1.000000</td>\n",
       "      <td>0.000000</td>\n",
       "      <td>1.00</td>\n",
       "      <td>1.0000</td>\n",
       "      <td>1.000</td>\n",
       "      <td>1.000</td>\n",
       "      <td>1.00</td>\n",
       "    </tr>\n",
       "    <tr>\n",
       "      <th>active_inactive_end</th>\n",
       "      <td>22906.0</td>\n",
       "      <td>1.000000</td>\n",
       "      <td>0.000000</td>\n",
       "      <td>1.00</td>\n",
       "      <td>1.0000</td>\n",
       "      <td>1.000</td>\n",
       "      <td>1.000</td>\n",
       "      <td>1.00</td>\n",
       "    </tr>\n",
       "    <tr>\n",
       "      <th>num_products</th>\n",
       "      <td>22906.0</td>\n",
       "      <td>2.580634</td>\n",
       "      <td>1.879328</td>\n",
       "      <td>0.00</td>\n",
       "      <td>1.0000</td>\n",
       "      <td>2.000</td>\n",
       "      <td>3.000</td>\n",
       "      <td>13.00</td>\n",
       "    </tr>\n",
       "    <tr>\n",
       "      <th>num_loans</th>\n",
       "      <td>22906.0</td>\n",
       "      <td>0.020999</td>\n",
       "      <td>0.143383</td>\n",
       "      <td>0.00</td>\n",
       "      <td>0.0000</td>\n",
       "      <td>0.000</td>\n",
       "      <td>0.000</td>\n",
       "      <td>1.00</td>\n",
       "    </tr>\n",
       "    <tr>\n",
       "      <th>duration</th>\n",
       "      <td>22906.0</td>\n",
       "      <td>3304.769100</td>\n",
       "      <td>2128.153780</td>\n",
       "      <td>366.00</td>\n",
       "      <td>1203.0000</td>\n",
       "      <td>3202.000</td>\n",
       "      <td>5266.000</td>\n",
       "      <td>7909.00</td>\n",
       "    </tr>\n",
       "  </tbody>\n",
       "</table>\n",
       "</div>"
      ],
      "text/plain": [
       "                         count           mean            std      min  \\\n",
       "age                    22906.0      43.677115      16.065042     2.00   \n",
       "gross_income           22906.0  142333.733732  222933.483479  5340.93   \n",
       "num_credit_cards       22906.0       0.116782       0.321167     0.00   \n",
       "active_inactive_start  22906.0       1.000000       0.000000     1.00   \n",
       "active_inactive_end    22906.0       1.000000       0.000000     1.00   \n",
       "num_products           22906.0       2.580634       1.879328     0.00   \n",
       "num_loans              22906.0       0.020999       0.143383     0.00   \n",
       "duration               22906.0    3304.769100    2128.153780   366.00   \n",
       "\n",
       "                              25%         50%         75%          max  \n",
       "age                       32.0000      43.000      52.000       112.00  \n",
       "gross_income           74152.5075  110413.965  167160.345  13268621.28  \n",
       "num_credit_cards           0.0000       0.000       0.000         1.00  \n",
       "active_inactive_start      1.0000       1.000       1.000         1.00  \n",
       "active_inactive_end        1.0000       1.000       1.000         1.00  \n",
       "num_products               1.0000       2.000       3.000        13.00  \n",
       "num_loans                  0.0000       0.000       0.000         1.00  \n",
       "duration                1203.0000    3202.000    5266.000      7909.00  "
      ]
     },
     "execution_count": 21,
     "metadata": {},
     "output_type": "execute_result"
    }
   ],
   "source": [
    "Cust_df[Cust_df.New_Activations == 'Existing_Active'].describe().transpose()"
   ]
  },
  {
   "cell_type": "markdown",
   "metadata": {},
   "source": [
    "Detailed Profile for Existing Inactive Customers"
   ]
  },
  {
   "cell_type": "code",
   "execution_count": 22,
   "metadata": {},
   "outputs": [
    {
     "data": {
      "text/html": [
       "<div>\n",
       "<style scoped>\n",
       "    .dataframe tbody tr th:only-of-type {\n",
       "        vertical-align: middle;\n",
       "    }\n",
       "\n",
       "    .dataframe tbody tr th {\n",
       "        vertical-align: top;\n",
       "    }\n",
       "\n",
       "    .dataframe thead th {\n",
       "        text-align: right;\n",
       "    }\n",
       "</style>\n",
       "<table border=\"1\" class=\"dataframe\">\n",
       "  <thead>\n",
       "    <tr style=\"text-align: right;\">\n",
       "      <th></th>\n",
       "      <th>count</th>\n",
       "      <th>mean</th>\n",
       "      <th>std</th>\n",
       "      <th>min</th>\n",
       "      <th>25%</th>\n",
       "      <th>50%</th>\n",
       "      <th>75%</th>\n",
       "      <th>max</th>\n",
       "    </tr>\n",
       "  </thead>\n",
       "  <tbody>\n",
       "    <tr>\n",
       "      <th>age</th>\n",
       "      <td>26588.0</td>\n",
       "      <td>38.052242</td>\n",
       "      <td>17.526843</td>\n",
       "      <td>3.00</td>\n",
       "      <td>24.0000</td>\n",
       "      <td>32.000</td>\n",
       "      <td>48.00</td>\n",
       "      <td>112.00</td>\n",
       "    </tr>\n",
       "    <tr>\n",
       "      <th>gross_income</th>\n",
       "      <td>26588.0</td>\n",
       "      <td>128290.309361</td>\n",
       "      <td>267713.880621</td>\n",
       "      <td>2336.01</td>\n",
       "      <td>64591.2525</td>\n",
       "      <td>94768.905</td>\n",
       "      <td>146964.39</td>\n",
       "      <td>28894395.51</td>\n",
       "    </tr>\n",
       "    <tr>\n",
       "      <th>num_credit_cards</th>\n",
       "      <td>26588.0</td>\n",
       "      <td>0.000075</td>\n",
       "      <td>0.008673</td>\n",
       "      <td>0.00</td>\n",
       "      <td>0.0000</td>\n",
       "      <td>0.000</td>\n",
       "      <td>0.00</td>\n",
       "      <td>1.00</td>\n",
       "    </tr>\n",
       "    <tr>\n",
       "      <th>active_inactive_start</th>\n",
       "      <td>26588.0</td>\n",
       "      <td>0.000000</td>\n",
       "      <td>0.000000</td>\n",
       "      <td>0.00</td>\n",
       "      <td>0.0000</td>\n",
       "      <td>0.000</td>\n",
       "      <td>0.00</td>\n",
       "      <td>0.00</td>\n",
       "    </tr>\n",
       "    <tr>\n",
       "      <th>active_inactive_end</th>\n",
       "      <td>26588.0</td>\n",
       "      <td>0.000000</td>\n",
       "      <td>0.000000</td>\n",
       "      <td>0.00</td>\n",
       "      <td>0.0000</td>\n",
       "      <td>0.000</td>\n",
       "      <td>0.00</td>\n",
       "      <td>0.00</td>\n",
       "    </tr>\n",
       "    <tr>\n",
       "      <th>num_products</th>\n",
       "      <td>26588.0</td>\n",
       "      <td>0.719498</td>\n",
       "      <td>0.549297</td>\n",
       "      <td>0.00</td>\n",
       "      <td>0.0000</td>\n",
       "      <td>1.000</td>\n",
       "      <td>1.00</td>\n",
       "      <td>4.00</td>\n",
       "    </tr>\n",
       "    <tr>\n",
       "      <th>num_loans</th>\n",
       "      <td>26588.0</td>\n",
       "      <td>0.000000</td>\n",
       "      <td>0.000000</td>\n",
       "      <td>0.00</td>\n",
       "      <td>0.0000</td>\n",
       "      <td>0.000</td>\n",
       "      <td>0.00</td>\n",
       "      <td>0.00</td>\n",
       "    </tr>\n",
       "    <tr>\n",
       "      <th>duration</th>\n",
       "      <td>26588.0</td>\n",
       "      <td>2561.070671</td>\n",
       "      <td>1850.117522</td>\n",
       "      <td>366.00</td>\n",
       "      <td>1084.0000</td>\n",
       "      <td>1774.000</td>\n",
       "      <td>3903.00</td>\n",
       "      <td>7879.00</td>\n",
       "    </tr>\n",
       "  </tbody>\n",
       "</table>\n",
       "</div>"
      ],
      "text/plain": [
       "                         count           mean            std      min  \\\n",
       "age                    26588.0      38.052242      17.526843     3.00   \n",
       "gross_income           26588.0  128290.309361  267713.880621  2336.01   \n",
       "num_credit_cards       26588.0       0.000075       0.008673     0.00   \n",
       "active_inactive_start  26588.0       0.000000       0.000000     0.00   \n",
       "active_inactive_end    26588.0       0.000000       0.000000     0.00   \n",
       "num_products           26588.0       0.719498       0.549297     0.00   \n",
       "num_loans              26588.0       0.000000       0.000000     0.00   \n",
       "duration               26588.0    2561.070671    1850.117522   366.00   \n",
       "\n",
       "                              25%        50%        75%          max  \n",
       "age                       24.0000     32.000      48.00       112.00  \n",
       "gross_income           64591.2525  94768.905  146964.39  28894395.51  \n",
       "num_credit_cards           0.0000      0.000       0.00         1.00  \n",
       "active_inactive_start      0.0000      0.000       0.00         0.00  \n",
       "active_inactive_end        0.0000      0.000       0.00         0.00  \n",
       "num_products               0.0000      1.000       1.00         4.00  \n",
       "num_loans                  0.0000      0.000       0.00         0.00  \n",
       "duration                1084.0000   1774.000    3903.00      7879.00  "
      ]
     },
     "execution_count": 22,
     "metadata": {},
     "output_type": "execute_result"
    }
   ],
   "source": [
    "Cust_df[Cust_df.New_Activations == 'Existing_Inactive'].describe().transpose()"
   ]
  },
  {
   "cell_type": "markdown",
   "metadata": {},
   "source": [
    "Detailed Profile for New Active Customers"
   ]
  },
  {
   "cell_type": "code",
   "execution_count": 23,
   "metadata": {},
   "outputs": [
    {
     "data": {
      "text/html": [
       "<div>\n",
       "<style scoped>\n",
       "    .dataframe tbody tr th:only-of-type {\n",
       "        vertical-align: middle;\n",
       "    }\n",
       "\n",
       "    .dataframe tbody tr th {\n",
       "        vertical-align: top;\n",
       "    }\n",
       "\n",
       "    .dataframe thead th {\n",
       "        text-align: right;\n",
       "    }\n",
       "</style>\n",
       "<table border=\"1\" class=\"dataframe\">\n",
       "  <thead>\n",
       "    <tr style=\"text-align: right;\">\n",
       "      <th></th>\n",
       "      <th>count</th>\n",
       "      <th>mean</th>\n",
       "      <th>std</th>\n",
       "      <th>min</th>\n",
       "      <th>25%</th>\n",
       "      <th>50%</th>\n",
       "      <th>75%</th>\n",
       "      <th>max</th>\n",
       "    </tr>\n",
       "  </thead>\n",
       "  <tbody>\n",
       "    <tr>\n",
       "      <th>age</th>\n",
       "      <td>2098.0</td>\n",
       "      <td>44.723546</td>\n",
       "      <td>18.800532</td>\n",
       "      <td>5.00</td>\n",
       "      <td>27.00</td>\n",
       "      <td>44.000</td>\n",
       "      <td>56.0000</td>\n",
       "      <td>104.00</td>\n",
       "    </tr>\n",
       "    <tr>\n",
       "      <th>gross_income</th>\n",
       "      <td>2098.0</td>\n",
       "      <td>133109.925829</td>\n",
       "      <td>132864.383455</td>\n",
       "      <td>14135.61</td>\n",
       "      <td>68242.50</td>\n",
       "      <td>103546.155</td>\n",
       "      <td>155856.8325</td>\n",
       "      <td>3227686.95</td>\n",
       "    </tr>\n",
       "    <tr>\n",
       "      <th>num_credit_cards</th>\n",
       "      <td>2098.0</td>\n",
       "      <td>0.006673</td>\n",
       "      <td>0.081435</td>\n",
       "      <td>0.00</td>\n",
       "      <td>0.00</td>\n",
       "      <td>0.000</td>\n",
       "      <td>0.0000</td>\n",
       "      <td>1.00</td>\n",
       "    </tr>\n",
       "    <tr>\n",
       "      <th>active_inactive_start</th>\n",
       "      <td>2098.0</td>\n",
       "      <td>1.000000</td>\n",
       "      <td>0.000000</td>\n",
       "      <td>1.00</td>\n",
       "      <td>1.00</td>\n",
       "      <td>1.000</td>\n",
       "      <td>1.0000</td>\n",
       "      <td>1.00</td>\n",
       "    </tr>\n",
       "    <tr>\n",
       "      <th>active_inactive_end</th>\n",
       "      <td>2098.0</td>\n",
       "      <td>0.000000</td>\n",
       "      <td>0.000000</td>\n",
       "      <td>0.00</td>\n",
       "      <td>0.00</td>\n",
       "      <td>0.000</td>\n",
       "      <td>0.0000</td>\n",
       "      <td>0.00</td>\n",
       "    </tr>\n",
       "    <tr>\n",
       "      <th>num_products</th>\n",
       "      <td>2098.0</td>\n",
       "      <td>0.779314</td>\n",
       "      <td>0.687383</td>\n",
       "      <td>0.00</td>\n",
       "      <td>0.00</td>\n",
       "      <td>1.000</td>\n",
       "      <td>1.0000</td>\n",
       "      <td>4.00</td>\n",
       "    </tr>\n",
       "    <tr>\n",
       "      <th>num_loans</th>\n",
       "      <td>2098.0</td>\n",
       "      <td>0.011916</td>\n",
       "      <td>0.108534</td>\n",
       "      <td>0.00</td>\n",
       "      <td>0.00</td>\n",
       "      <td>0.000</td>\n",
       "      <td>0.0000</td>\n",
       "      <td>1.00</td>\n",
       "    </tr>\n",
       "    <tr>\n",
       "      <th>duration</th>\n",
       "      <td>2098.0</td>\n",
       "      <td>3427.450429</td>\n",
       "      <td>2327.815923</td>\n",
       "      <td>366.00</td>\n",
       "      <td>1010.25</td>\n",
       "      <td>3723.000</td>\n",
       "      <td>5462.5000</td>\n",
       "      <td>7794.00</td>\n",
       "    </tr>\n",
       "  </tbody>\n",
       "</table>\n",
       "</div>"
      ],
      "text/plain": [
       "                        count           mean            std       min  \\\n",
       "age                    2098.0      44.723546      18.800532      5.00   \n",
       "gross_income           2098.0  133109.925829  132864.383455  14135.61   \n",
       "num_credit_cards       2098.0       0.006673       0.081435      0.00   \n",
       "active_inactive_start  2098.0       1.000000       0.000000      1.00   \n",
       "active_inactive_end    2098.0       0.000000       0.000000      0.00   \n",
       "num_products           2098.0       0.779314       0.687383      0.00   \n",
       "num_loans              2098.0       0.011916       0.108534      0.00   \n",
       "duration               2098.0    3427.450429    2327.815923    366.00   \n",
       "\n",
       "                            25%         50%          75%         max  \n",
       "age                       27.00      44.000      56.0000      104.00  \n",
       "gross_income           68242.50  103546.155  155856.8325  3227686.95  \n",
       "num_credit_cards           0.00       0.000       0.0000        1.00  \n",
       "active_inactive_start      1.00       1.000       1.0000        1.00  \n",
       "active_inactive_end        0.00       0.000       0.0000        0.00  \n",
       "num_products               0.00       1.000       1.0000        4.00  \n",
       "num_loans                  0.00       0.000       0.0000        1.00  \n",
       "duration                1010.25    3723.000    5462.5000     7794.00  "
      ]
     },
     "execution_count": 23,
     "metadata": {},
     "output_type": "execute_result"
    }
   ],
   "source": [
    "Cust_df[Cust_df.New_Activations == 'New_Inactive'].describe().transpose()"
   ]
  },
  {
   "cell_type": "code",
   "execution_count": 24,
   "metadata": {},
   "outputs": [
    {
     "data": {
      "text/plain": [
       "<AxesSubplot:xlabel='New_Activations', ylabel='age'>"
      ]
     },
     "execution_count": 24,
     "metadata": {},
     "output_type": "execute_result"
    },
    {
     "data": {
      "image/png": "[encoded data removed]",
      "text/plain": [
       "<Figure size 792x504 with 1 Axes>"
      ]
     },
     "metadata": {
      "needs_background": "light"
     },
     "output_type": "display_data"
    }
   ],
   "source": [
    "plt.figure(figsize=(11,7))\n",
    "sns.violinplot(data = Cust_df, x='New_Activations',y= 'age', palette='Set1')"
   ]
  },
  {
   "cell_type": "markdown",
   "metadata": {},
   "source": [
    "Scatterplot reveals outlier exists in gross_income for customers who have been inactive throughout the analysis period"
   ]
  },
  {
   "cell_type": "markdown",
   "metadata": {},
   "source": [
    "The below scatter plot shows outliers in gross income for customers whose behaviour has not changed,i.e. customers who remained inactive or active throughout the analysis period. This will require data wrangling to remove the outliers in case required to perform predictive analysis of customer behaviour."
   ]
  },
  {
   "cell_type": "code",
   "execution_count": 25,
   "metadata": {},
   "outputs": [
    {
     "data": {
      "text/plain": [
       "<AxesSubplot:xlabel='New_Activations', ylabel='gross_income'>"
      ]
     },
     "execution_count": 25,
     "metadata": {},
     "output_type": "execute_result"
    },
    {
     "data": {
      "image/png": "[encoded data removed]",
      "text/plain": [
       "<Figure size 792x504 with 1 Axes>"
      ]
     },
     "metadata": {
      "needs_background": "light"
     },
     "output_type": "display_data"
    }
   ],
   "source": [
    "plt.figure(figsize=(11,7))\n",
    "sns.scatterplot(data = Cust_df, x='New_Activations',y= 'gross_income', palette='Set1')"
   ]
  },
  {
   "cell_type": "code",
   "execution_count": 26,
   "metadata": {},
   "outputs": [],
   "source": [
    "upper_limit = Cust_df['gross_income'].mean() + 3*Cust_df['gross_income'].std()\n",
    "lower_limit = Cust_df['gross_income'].mean() - 3*Cust_df['gross_income'].std()"
   ]
  },
  {
   "cell_type": "code",
   "execution_count": 27,
   "metadata": {},
   "outputs": [],
   "source": [
    "Cust_df['gross_income'] = np.where(\n",
    "    Cust_df['gross_income']>upper_limit,\n",
    "    upper_limit,\n",
    "    np.where(\n",
    "        Cust_df['gross_income']<lower_limit,\n",
    "        lower_limit,\n",
    "        Cust_df['gross_income']\n",
    "    )\n",
    ")"
   ]
  },
  {
   "cell_type": "code",
   "execution_count": 28,
   "metadata": {},
   "outputs": [
    {
     "name": "stderr",
     "output_type": "stream",
     "text": [
      "C:\\Users\\91998\\anaconda3\\lib\\site-packages\\seaborn\\distributions.py:2551: FutureWarning: `distplot` is a deprecated function and will be removed in a future version. Please adapt your code to use either `displot` (a figure-level function with similar flexibility) or `histplot` (an axes-level function for histograms).\n",
      "  warnings.warn(msg, FutureWarning)\n"
     ]
    },
    {
     "data": {
      "text/plain": [
       "<AxesSubplot:xlabel='gross_income', ylabel='Density'>"
      ]
     },
     "execution_count": 28,
     "metadata": {},
     "output_type": "execute_result"
    },
    {
     "data": {
      "image/png": "[encoded data removed]",
      "text/plain": [
       "<Figure size 792x504 with 1 Axes>"
      ]
     },
     "metadata": {
      "needs_background": "light"
     },
     "output_type": "display_data"
    }
   ],
   "source": [
    "plt.figure(figsize=(11,7))\n",
    "sns.distplot(Cust_df['gross_income'],bins=200)"
   ]
  },
  {
   "cell_type": "markdown",
   "metadata": {},
   "source": [
    "Scatterplot reveals no outlier in customers age"
   ]
  },
  {
   "cell_type": "markdown",
   "metadata": {},
   "source": [
    "Recheck of spread of gross income and any outlier existing"
   ]
  },
  {
   "cell_type": "code",
   "execution_count": 29,
   "metadata": {},
   "outputs": [
    {
     "data": {
      "text/plain": [
       "<AxesSubplot:xlabel='New_Activations', ylabel='age'>"
      ]
     },
     "execution_count": 29,
     "metadata": {},
     "output_type": "execute_result"
    },
    {
     "data": {
      "image/png": "[encoded data removed]",
      "text/plain": [
       "<Figure size 792x504 with 1 Axes>"
      ]
     },
     "metadata": {
      "needs_background": "light"
     },
     "output_type": "display_data"
    }
   ],
   "source": [
    "plt.figure(figsize=(11,7))\n",
    "sns.scatterplot(data = Cust_df, x='New_Activations',y= 'age', palette='Set1')"
   ]
  },
  {
   "cell_type": "code",
   "execution_count": 30,
   "metadata": {},
   "outputs": [
    {
     "data": {
      "text/plain": [
       "Text(0, 0.5, 'No. of CUstomers')"
      ]
     },
     "execution_count": 30,
     "metadata": {},
     "output_type": "execute_result"
    },
    {
     "data": {
      "image/png": "[encoded data removed]",
      "text/plain": [
       "<Figure size 504x360 with 1 Axes>"
      ]
     },
     "metadata": {
      "needs_background": "light"
     },
     "output_type": "display_data"
    }
   ],
   "source": [
    "plt.figure(figsize=(7,5))\n",
    "sns.countplot(x='New_Activations',data=Cust_df)\n",
    "plt.title('Distribution of Customer Active Status')\n",
    "plt.xlabel('Customer Activations Status')\n",
    "plt.ylabel('No. of CUstomers')"
   ]
  },
  {
   "cell_type": "code",
   "execution_count": 31,
   "metadata": {},
   "outputs": [
    {
     "data": {
      "text/plain": [
       "Existing_Inactive    26588\n",
       "Existing_Active      22906\n",
       "New_Active            2438\n",
       "New_Inactive          2098\n",
       "Name: New_Activations, dtype: int64"
      ]
     },
     "execution_count": 31,
     "metadata": {},
     "output_type": "execute_result"
    }
   ],
   "source": [
    "Cust_df['New_Activations'].value_counts()"
   ]
  },
  {
   "cell_type": "code",
   "execution_count": 32,
   "metadata": {},
   "outputs": [],
   "source": [
    "pv_Avg_Annual_Income = Cust_df.pivot_table(values='gross_income',index='gender',columns='New_Activations')"
   ]
  },
  {
   "cell_type": "code",
   "execution_count": 33,
   "metadata": {},
   "outputs": [
    {
     "data": {
      "text/html": [
       "<div>\n",
       "<style scoped>\n",
       "    .dataframe tbody tr th:only-of-type {\n",
       "        vertical-align: middle;\n",
       "    }\n",
       "\n",
       "    .dataframe tbody tr th {\n",
       "        vertical-align: top;\n",
       "    }\n",
       "\n",
       "    .dataframe thead th {\n",
       "        text-align: right;\n",
       "    }\n",
       "</style>\n",
       "<table border=\"1\" class=\"dataframe\">\n",
       "  <thead>\n",
       "    <tr style=\"text-align: right;\">\n",
       "      <th>New_Activations</th>\n",
       "      <th>Existing_Active</th>\n",
       "      <th>Existing_Inactive</th>\n",
       "      <th>New_Active</th>\n",
       "      <th>New_Inactive</th>\n",
       "    </tr>\n",
       "    <tr>\n",
       "      <th>gender</th>\n",
       "      <th></th>\n",
       "      <th></th>\n",
       "      <th></th>\n",
       "      <th></th>\n",
       "    </tr>\n",
       "  </thead>\n",
       "  <tbody>\n",
       "    <tr>\n",
       "      <th>F</th>\n",
       "      <td>136678.879840</td>\n",
       "      <td>125845.294814</td>\n",
       "      <td>126459.177794</td>\n",
       "      <td>134043.031756</td>\n",
       "    </tr>\n",
       "    <tr>\n",
       "      <th>M</th>\n",
       "      <td>138234.176422</td>\n",
       "      <td>121302.593255</td>\n",
       "      <td>118874.706161</td>\n",
       "      <td>124615.141455</td>\n",
       "    </tr>\n",
       "  </tbody>\n",
       "</table>\n",
       "</div>"
      ],
      "text/plain": [
       "New_Activations  Existing_Active  Existing_Inactive     New_Active  \\\n",
       "gender                                                               \n",
       "F                  136678.879840      125845.294814  126459.177794   \n",
       "M                  138234.176422      121302.593255  118874.706161   \n",
       "\n",
       "New_Activations   New_Inactive  \n",
       "gender                          \n",
       "F                134043.031756  \n",
       "M                124615.141455  "
      ]
     },
     "execution_count": 33,
     "metadata": {},
     "output_type": "execute_result"
    }
   ],
   "source": [
    "pv_Avg_Annual_Income"
   ]
  },
  {
   "cell_type": "code",
   "execution_count": 34,
   "metadata": {},
   "outputs": [
    {
     "data": {
      "text/plain": [
       "<seaborn.axisgrid.FacetGrid at 0x1fadbad20a0>"
      ]
     },
     "execution_count": 34,
     "metadata": {},
     "output_type": "execute_result"
    },
    {
     "data": {
      "image/png": "[encoded data removed]",
      "text/plain": [
       "<Figure size 720x360 with 2 Axes>"
      ]
     },
     "metadata": {
      "needs_background": "light"
     },
     "output_type": "display_data"
    }
   ],
   "source": [
    "sns.lmplot(x='age',y='gross_income',data=Cust_df,col='gender')"
   ]
  },
  {
   "cell_type": "code",
   "execution_count": 35,
   "metadata": {},
   "outputs": [
    {
     "data": {
      "text/plain": [
       "129675.92309646349"
      ]
     },
     "execution_count": 35,
     "metadata": {},
     "output_type": "execute_result"
    }
   ],
   "source": [
    "Cust_df.gross_income.mean()"
   ]
  },
  {
   "cell_type": "code",
   "execution_count": 36,
   "metadata": {},
   "outputs": [],
   "source": [
    "Cust_df.loc[(Cust_df.gross_income > Cust_df.gross_income.mean()), 'gross_income_1'] = 'gross_income_more_than_avg'\n",
    "Cust_df.loc[(Cust_df.gross_income < Cust_df.gross_income.mean()), 'gross_income_1'] = 'gross_income_less_than_avg'"
   ]
  },
  {
   "cell_type": "code",
   "execution_count": 37,
   "metadata": {},
   "outputs": [
    {
     "data": {
      "text/plain": [
       "<AxesSubplot:xlabel='New_Activations', ylabel='count'>"
      ]
     },
     "execution_count": 37,
     "metadata": {},
     "output_type": "execute_result"
    },
    {
     "data": {
      "image/png": "[encoded data removed]",
      "text/plain": [
       "<Figure size 432x288 with 1 Axes>"
      ]
     },
     "metadata": {
      "needs_background": "light"
     },
     "output_type": "display_data"
    }
   ],
   "source": [
    "sns.countplot(x='New_Activations',hue = 'gross_income_1', data=Cust_df)"
   ]
  },
  {
   "cell_type": "markdown",
   "metadata": {},
   "source": [
    "What is the relationship between the number of products owned by customers who\n",
    "were active at the start and at the end vs those who were active at the start but were"
   ]
  },
  {
   "cell_type": "code",
   "execution_count": 38,
   "metadata": {},
   "outputs": [
    {
     "data": {
      "image/png": "[encoded data removed]",
      "text/plain": [
       "<Figure size 432x288 with 1 Axes>"
      ]
     },
     "metadata": {
      "needs_background": "light"
     },
     "output_type": "display_data"
    }
   ],
   "source": [
    "pivot = pd.pivot_table(Cust_df,values = 'num_products',index = 'New_Activations', aggfunc = np.mean).plot()"
   ]
  },
  {
   "cell_type": "code",
   "execution_count": 39,
   "metadata": {},
   "outputs": [],
   "source": [
    "num_products_summary = Cust_df[['num_products','New_Activations']]"
   ]
  },
  {
   "cell_type": "code",
   "execution_count": 40,
   "metadata": {},
   "outputs": [
    {
     "data": {
      "text/plain": [
       "New_Activations\n",
       "Existing_Active      2.580634\n",
       "Existing_Inactive    0.719498\n",
       "New_Active           1.277276\n",
       "New_Inactive         0.779314\n",
       "Name: num_products, dtype: float64"
      ]
     },
     "execution_count": 40,
     "metadata": {},
     "output_type": "execute_result"
    }
   ],
   "source": [
    "num_products_summary.groupby('New_Activations')['num_products'].mean()"
   ]
  },
  {
   "cell_type": "code",
   "execution_count": 41,
   "metadata": {},
   "outputs": [
    {
     "data": {
      "text/html": [
       "<div>\n",
       "<style scoped>\n",
       "    .dataframe tbody tr th:only-of-type {\n",
       "        vertical-align: middle;\n",
       "    }\n",
       "\n",
       "    .dataframe tbody tr th {\n",
       "        vertical-align: top;\n",
       "    }\n",
       "\n",
       "    .dataframe thead th {\n",
       "        text-align: right;\n",
       "    }\n",
       "</style>\n",
       "<table border=\"1\" class=\"dataframe\">\n",
       "  <thead>\n",
       "    <tr style=\"text-align: right;\">\n",
       "      <th></th>\n",
       "      <th>num_products</th>\n",
       "    </tr>\n",
       "  </thead>\n",
       "  <tbody>\n",
       "    <tr>\n",
       "      <th>count</th>\n",
       "      <td>54030.000000</td>\n",
       "    </tr>\n",
       "    <tr>\n",
       "      <th>mean</th>\n",
       "      <td>1.536017</td>\n",
       "    </tr>\n",
       "    <tr>\n",
       "      <th>std</th>\n",
       "      <td>1.578848</td>\n",
       "    </tr>\n",
       "    <tr>\n",
       "      <th>min</th>\n",
       "      <td>0.000000</td>\n",
       "    </tr>\n",
       "    <tr>\n",
       "      <th>25%</th>\n",
       "      <td>1.000000</td>\n",
       "    </tr>\n",
       "    <tr>\n",
       "      <th>50%</th>\n",
       "      <td>1.000000</td>\n",
       "    </tr>\n",
       "    <tr>\n",
       "      <th>75%</th>\n",
       "      <td>2.000000</td>\n",
       "    </tr>\n",
       "    <tr>\n",
       "      <th>max</th>\n",
       "      <td>13.000000</td>\n",
       "    </tr>\n",
       "  </tbody>\n",
       "</table>\n",
       "</div>"
      ],
      "text/plain": [
       "       num_products\n",
       "count  54030.000000\n",
       "mean       1.536017\n",
       "std        1.578848\n",
       "min        0.000000\n",
       "25%        1.000000\n",
       "50%        1.000000\n",
       "75%        2.000000\n",
       "max       13.000000"
      ]
     },
     "execution_count": 41,
     "metadata": {},
     "output_type": "execute_result"
    }
   ],
   "source": [
    "num_products_summary.describe()"
   ]
  },
  {
   "cell_type": "code",
   "execution_count": 42,
   "metadata": {},
   "outputs": [
    {
     "name": "stderr",
     "output_type": "stream",
     "text": [
      "C:\\Users\\91998\\anaconda3\\lib\\site-packages\\seaborn\\_decorators.py:36: FutureWarning: Pass the following variable as a keyword arg: x. From version 0.12, the only valid positional argument will be `data`, and passing other arguments without an explicit keyword will result in an error or misinterpretation.\n",
      "  warnings.warn(\n"
     ]
    },
    {
     "ename": "AttributeError",
     "evalue": "'AxesSubplot' object has no attribute 'unique'",
     "output_type": "error",
     "traceback": [
      "\u001b[1;31m---------------------------------------------------------------------------\u001b[0m",
      "\u001b[1;31mAttributeError\u001b[0m                            Traceback (most recent call last)",
      "\u001b[1;32m<ipython-input-42-fbdb4a51f5d5>\u001b[0m in \u001b[0;36m<module>\u001b[1;34m\u001b[0m\n\u001b[1;32m----> 1\u001b[1;33m \u001b[0msns\u001b[0m\u001b[1;33m.\u001b[0m\u001b[0mcountplot\u001b[0m\u001b[1;33m(\u001b[0m\u001b[0mCust_df\u001b[0m\u001b[1;33m[\u001b[0m\u001b[1;34m'num_products'\u001b[0m\u001b[1;33m]\u001b[0m\u001b[1;33m)\u001b[0m\u001b[1;33m.\u001b[0m\u001b[0munique\u001b[0m\u001b[1;33m(\u001b[0m\u001b[1;33m)\u001b[0m\u001b[1;33m\u001b[0m\u001b[1;33m\u001b[0m\u001b[0m\n\u001b[0m",
      "\u001b[1;31mAttributeError\u001b[0m: 'AxesSubplot' object has no attribute 'unique'"
     ]
    },
    {
     "data": {
      "image/png": "[encoded data removed]",
      "text/plain": [
       "<Figure size 432x288 with 1 Axes>"
      ]
     },
     "metadata": {
      "needs_background": "light"
     },
     "output_type": "display_data"
    }
   ],
   "source": [
    "sns.countplot(Cust_df['num_products']).unique()"
   ]
  }
 ],
 "metadata": {
  "kernelspec": {
   "display_name": "Python 3",
   "language": "python",
   "name": "python3"
  },
  "language_info": {
   "codemirror_mode": {
    "name": "ipython",
    "version": 3
   },
   "file_extension": ".py",
   "mimetype": "text/x-python",
   "name": "python",
   "nbconvert_exporter": "python",
   "pygments_lexer": "ipython3",
   "version": "3.8.5"
  }
 },
 "nbformat": 4,
 "nbformat_minor": 4
}
